{
 "cells": [
  {
   "cell_type": "code",
   "execution_count": 126,
   "metadata": {},
   "outputs": [],
   "source": [
    "import pandas as pd\n",
    "import numpy as np\n",
    "import matplotlib.pyplot as plt"
   ]
  },
  {
   "cell_type": "code",
   "execution_count": 137,
   "metadata": {},
   "outputs": [],
   "source": [
    "# Read the data\n",
    "df = pd.read_excel('data\\comunidades_archivos_consolidados.xlsx')"
   ]
  },
  {
   "cell_type": "code",
   "execution_count": 138,
   "metadata": {},
   "outputs": [],
   "source": [
    "# Llenar la comunidad por -1 si no es un grupo conocido\n",
    "df.fillna(-1, inplace=True)"
   ]
  },
  {
   "cell_type": "code",
   "execution_count": 139,
   "metadata": {},
   "outputs": [],
   "source": [
    "# Diccionario de las categorías\n",
    "categorias = {\n",
    "    0: 'Canasta básica y carnes frías',\n",
    "    1: 'Granos, atunes y caldos',\n",
    "    2: 'Productos procesados y dulces',\n",
    "    3: 'Proteínas animales',\n",
    "    -1: 'Otras categorías'\n",
    "}\n",
    "\n",
    "# Agrupar datos por cedula, mes (el mes tiene que calcularse a partir de la variable fecha) y comunidad contando el total de productos comprados\n",
    "df_agrupado = df.groupby(['Cedula', df['fecha'].dt.month, df['comunidad'].map(categorias)])['Plu'].nunique().reset_index()\n",
    "\n",
    "# Ordenar por el mes\n",
    "df_agrupado.sort_values(by = ['Cedula', 'fecha'], inplace = True)\n",
    "\n",
    "# Obtener la tabla con la categoría más comprada por cada cedula y mes\n",
    "df_agrupado_solo_maximo_comunidad = df_agrupado.groupby([\"Cedula\", \"fecha\"], as_index = False).apply(lambda x: x.iloc[0])"
   ]
  },
  {
   "cell_type": "code",
   "execution_count": 140,
   "metadata": {},
   "outputs": [],
   "source": [
    "def obtener_conteo_cruzado(df_agrupado : pd.DataFrame) -> pd.DataFrame:\n",
    "    # Calcular el porcentaje por categorías\n",
    "    categorias = df_agrupado['comunidad'].unique()\n",
    "\n",
    "    df_sept = df_agrupado[df_agrupado['fecha'] == 9]\n",
    "    df_oct = df_agrupado[df_agrupado['fecha'] == 10]\n",
    "    conteos_totales = {}\n",
    "\n",
    "    for categoria in categorias:\n",
    "        df_temp_categ = df_sept[(df_sept['comunidad'] == categoria)]\n",
    "        cedulas = df_temp_categ['Cedula'].unique()\n",
    "        df_oct_ = df_oct[(df_oct['Cedula'].isin(cedulas))]\n",
    "        total_cedulas = df_oct_['Cedula'].unique().shape[0]\n",
    "\n",
    "        conteos_totales[categoria] = df_oct_.groupby('comunidad')['Cedula'].nunique() / total_cedulas\n",
    "\n",
    "    return pd.DataFrame(data = conteos_totales.values(), index = conteos_totales.keys())"
   ]
  },
  {
   "cell_type": "code",
   "execution_count": 141,
   "metadata": {},
   "outputs": [
    {
     "data": {
      "text/html": [
       "<div>\n",
       "<style scoped>\n",
       "    .dataframe tbody tr th:only-of-type {\n",
       "        vertical-align: middle;\n",
       "    }\n",
       "\n",
       "    .dataframe tbody tr th {\n",
       "        vertical-align: top;\n",
       "    }\n",
       "\n",
       "    .dataframe thead th {\n",
       "        text-align: right;\n",
       "    }\n",
       "</style>\n",
       "<table border=\"1\" class=\"dataframe\">\n",
       "  <thead>\n",
       "    <tr style=\"text-align: right;\">\n",
       "      <th>comunidad</th>\n",
       "      <th>Canasta básica y carnes frías</th>\n",
       "      <th>Granos, atunes y caldos</th>\n",
       "      <th>Otras categorías</th>\n",
       "      <th>Productos procesados y dulces</th>\n",
       "      <th>Proteínas animales</th>\n",
       "    </tr>\n",
       "  </thead>\n",
       "  <tbody>\n",
       "    <tr>\n",
       "      <th>Canasta básica y carnes frías</th>\n",
       "      <td>0.910782</td>\n",
       "      <td>0.030457</td>\n",
       "      <td>0.041818</td>\n",
       "      <td>0.009695</td>\n",
       "      <td>0.007247</td>\n",
       "    </tr>\n",
       "    <tr>\n",
       "      <th>Granos, atunes y caldos</th>\n",
       "      <td>0.620818</td>\n",
       "      <td>0.221190</td>\n",
       "      <td>0.100372</td>\n",
       "      <td>0.027881</td>\n",
       "      <td>0.029740</td>\n",
       "    </tr>\n",
       "    <tr>\n",
       "      <th>Productos procesados y dulces</th>\n",
       "      <td>0.421296</td>\n",
       "      <td>0.023148</td>\n",
       "      <td>0.226852</td>\n",
       "      <td>0.273148</td>\n",
       "      <td>0.055556</td>\n",
       "    </tr>\n",
       "    <tr>\n",
       "      <th>Proteínas animales</th>\n",
       "      <td>0.368852</td>\n",
       "      <td>0.049180</td>\n",
       "      <td>0.229508</td>\n",
       "      <td>0.098361</td>\n",
       "      <td>0.254098</td>\n",
       "    </tr>\n",
       "    <tr>\n",
       "      <th>Otras categorías</th>\n",
       "      <td>0.555260</td>\n",
       "      <td>0.066578</td>\n",
       "      <td>0.274301</td>\n",
       "      <td>0.063915</td>\n",
       "      <td>0.039947</td>\n",
       "    </tr>\n",
       "  </tbody>\n",
       "</table>\n",
       "</div>"
      ],
      "text/plain": [
       "comunidad                      Canasta básica y carnes frías  \\\n",
       "Canasta básica y carnes frías                       0.910782   \n",
       "Granos, atunes y caldos                             0.620818   \n",
       "Productos procesados y dulces                       0.421296   \n",
       "Proteínas animales                                  0.368852   \n",
       "Otras categorías                                    0.555260   \n",
       "\n",
       "comunidad                      Granos, atunes y caldos  Otras categorías  \\\n",
       "Canasta básica y carnes frías                 0.030457          0.041818   \n",
       "Granos, atunes y caldos                       0.221190          0.100372   \n",
       "Productos procesados y dulces                 0.023148          0.226852   \n",
       "Proteínas animales                            0.049180          0.229508   \n",
       "Otras categorías                              0.066578          0.274301   \n",
       "\n",
       "comunidad                      Productos procesados y dulces  \\\n",
       "Canasta básica y carnes frías                       0.009695   \n",
       "Granos, atunes y caldos                             0.027881   \n",
       "Productos procesados y dulces                       0.273148   \n",
       "Proteínas animales                                  0.098361   \n",
       "Otras categorías                                    0.063915   \n",
       "\n",
       "comunidad                      Proteínas animales  \n",
       "Canasta básica y carnes frías            0.007247  \n",
       "Granos, atunes y caldos                  0.029740  \n",
       "Productos procesados y dulces            0.055556  \n",
       "Proteínas animales                       0.254098  \n",
       "Otras categorías                         0.039947  "
      ]
     },
     "execution_count": 141,
     "metadata": {},
     "output_type": "execute_result"
    }
   ],
   "source": [
    "obtener_conteo_cruzado(df_agrupado_solo_maximo_comunidad)"
   ]
  },
  {
   "cell_type": "markdown",
   "metadata": {},
   "source": [
    "# Evolución entre Septiembre y Octubre"
   ]
  },
  {
   "cell_type": "code",
   "execution_count": 146,
   "metadata": {},
   "outputs": [
    {
     "data": {
      "text/plain": [
       "fecha\n",
       "9     12939\n",
       "10    19084\n",
       "Name: Cedula, dtype: int64"
      ]
     },
     "execution_count": 146,
     "metadata": {},
     "output_type": "execute_result"
    }
   ],
   "source": [
    "df.groupby(df['fecha'].map(lambda x: x.month))['Cedula'].nunique()"
   ]
  },
  {
   "cell_type": "code",
   "execution_count": null,
   "metadata": {},
   "outputs": [],
   "source": []
  }
 ],
 "metadata": {
  "kernelspec": {
   "display_name": "Python 3.7.3",
   "language": "python",
   "name": "python3"
  },
  "language_info": {
   "codemirror_mode": {
    "name": "ipython",
    "version": 3
   },
   "file_extension": ".py",
   "mimetype": "text/x-python",
   "name": "python",
   "nbconvert_exporter": "python",
   "pygments_lexer": "ipython3",
   "version": "3.7.3"
  },
  "orig_nbformat": 4,
  "vscode": {
   "interpreter": {
    "hash": "ad2bdc8ecc057115af97d19610ffacc2b4e99fae6737bb82f5d7fb13d2f2c186"
   }
  }
 },
 "nbformat": 4,
 "nbformat_minor": 2
}
